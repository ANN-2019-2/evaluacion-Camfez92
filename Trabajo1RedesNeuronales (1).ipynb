{
  "nbformat": 4,
  "nbformat_minor": 0,
  "metadata": {
    "colab": {
      "name": "Trabajo1RedesNeuronales.ipynb",
      "provenance": [],
      "collapsed_sections": []
    },
    "kernelspec": {
      "name": "python3",
      "display_name": "Python 3"
    }
  },
  "cells": [
    {
      "cell_type": "markdown",
      "metadata": {
        "id": "4Gs1Nbeaxsu2",
        "colab_type": "text"
      },
      "source": [
        "Se cargan las librerias\n"
      ]
    },
    {
      "cell_type": "code",
      "metadata": {
        "id": "OYFPTQAZxrR-",
        "colab_type": "code",
        "colab": {}
      },
      "source": [
        "import math\n",
        "import pandas as pd\n",
        "import numpy as np\n",
        "import seaborn as sns\n",
        "import matplotlib as mt\n",
        "import matplotlib.pyplot as plt\n",
        "import tensorflow as tf\n",
        "from google.colab import files\n",
        "import io\n",
        "\n",
        "pd.set_option('display.max_rows', None)"
      ],
      "execution_count": 0,
      "outputs": []
    },
    {
      "cell_type": "markdown",
      "metadata": {
        "id": "vFD5rw2I_lxu",
        "colab_type": "text"
      },
      "source": [
        "Cargamos los datos directamente desde el servidor; en nuestro caso, desde github, esto es posible con \"raw=true\" al final del nombre del archivo.\n",
        "\n",
        "También cargamos los datos del ipc. En este caso, serán cargados desde una memoria local y luego convertidos en un dataframe.\n",
        "\n",
        "Nota: El algoritmo le pedirá seleccionar el archivo, y éste debe de coincidir con el nombre \"1.2.5.IPC_Serie_variaciones.xlsx\""
      ]
    },
    {
      "cell_type": "code",
      "metadata": {
        "colab_type": "code",
        "id": "BQ2qQRrk6wPU",
        "outputId": "247188d2-7a2e-470e-d7b4-8674ad6fe410",
        "colab": {
          "resources": {
            "http://localhost:8080/nbextensions/google.colab/files.js": {
              "data": "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",
              "ok": true,
              "headers": [
                [
                  "content-type",
                  "application/javascript"
                ]
              ],
              "status": 200,
              "status_text": ""
            }
          },
          "base_uri": "https://localhost:8080/",
          "height": 75
        }
      },
      "source": [
        "data95=pd.read_excel(\"https://github.com/ANN-2019-2/evaluacion-Camfez92/blob/master/datos/precios/Precio_Bolsa_Nacional_($kwh)_1995.xlsx?raw=true\",sep = ',',         # separador de campos\n",
        "    thousands = None,  # separador de miles para números\n",
        "    decimal = '.')     # separador de los decimales para números\n",
        "\n",
        "data96=pd.read_excel(\"https://github.com/ANN-2019-2/evaluacion-Camfez92/blob/master/datos/precios/Precio_Bolsa_Nacional_(%24kwh)_1996.xlsx?raw=true\", sep = ',',         # separador de campos\n",
        "    thousands = None,  # separador de miles para números\n",
        "    decimal = '.')     # separador de los decimales para números )\n",
        "\n",
        "data97=pd.read_excel(\"https://github.com/ANN-2019-2/evaluacion-Camfez92/blob/master/datos/precios/Precio_Bolsa_Nacional_(%24kwh)_1997.xlsx?raw=true\", sep = ',',         # separador de campos\n",
        "    thousands = None,  # separador de miles para números\n",
        "    decimal = '.')     # separador de los decimales para números )\n",
        "\n",
        "\n",
        "data98=pd.read_excel(\"https://github.com/ANN-2019-2/evaluacion-Camfez92/blob/master/datos/precios/Precio_Bolsa_Nacional_(%24kwh)_1998.xlsx?raw=true\", sep = ',',         # separador de campos\n",
        "    thousands = None,  # separador de miles para números\n",
        "    decimal = '.')     # separador de los decimales para números )\n",
        "\n",
        "data99=pd.read_excel(\"https://github.com/ANN-2019-2/evaluacion-Camfez92/blob/master/datos/precios/Precio_Bolsa_Nacional_(%24kwh)_1999.xlsx?raw=true\", sep = ',',         # separador de campos\n",
        "    thousands = None,  # separador de miles para números\n",
        "    decimal = '.')     # separador de los decimales para números )\n",
        "\n",
        "data2000=pd.read_excel(\"https://github.com/ANN-2019-2/evaluacion-Camfez92/blob/master/datos/precios/Precio_Bolsa_Nacional_(%24kwh)_2000.xlsx?raw=true\", sep = ',',         # separador de campos\n",
        "    thousands = None,  # separador de miles para números\n",
        "    decimal = '.')     # separador de los decimales para números )\n",
        "\n",
        "data01=pd.read_excel(\"https://github.com/ANN-2019-2/evaluacion-Camfez92/blob/master/datos/precios/Precio_Bolsa_Nacional_(%24kwh)_2001.xlsx?raw=true\", sep = ',',         # separador de campos\n",
        "    thousands = None,  # separador de miles para números\n",
        "    decimal = '.')     # separador de los decimales para números )\n",
        "\n",
        "data02=pd.read_excel(\"https://github.com/ANN-2019-2/evaluacion-Camfez92/blob/master/datos/precios/Precio_Bolsa_Nacional_(%24kwh)_2002.xlsx?raw=true\", sep = ',',         # separador de campos\n",
        "    thousands = None,  # separador de miles para números\n",
        "    decimal = '.')     # separador de los decimales para números )\n",
        "\n",
        "data03=pd.read_excel(\"https://github.com/ANN-2019-2/evaluacion-Camfez92/blob/master/datos/precios/Precio_Bolsa_Nacional_(%24kwh)_2003.xlsx?raw=true\", sep = ',',         # separador de campos\n",
        "    thousands = None,  # separador de miles para números\n",
        "    decimal = '.')     # separador de los decimales para números )\n",
        "\n",
        "data04=pd.read_excel(\"https://github.com/ANN-2019-2/evaluacion-Camfez92/blob/master/datos/precios/Precio_Bolsa_Nacional_(%24kwh)_2004.xlsx?raw=true\", sep = ',',         # separador de campos\n",
        "    thousands = None,  # separador de miles para números\n",
        "    decimal = '.')     # separador de los decimales para números )\n",
        "\n",
        "data05=pd.read_excel(\"https://github.com/ANN-2019-2/evaluacion-Camfez92/blob/master/datos/precios/Precio_Bolsa_Nacional_(%24kwh)_2005.xlsx?raw=true\", sep = ',',         # separador de campos\n",
        "    thousands = None,  # separador de miles para números\n",
        "    decimal = '.')     # separador de los decimales para números )\n",
        "\n",
        "data06=pd.read_excel(\"https://github.com/ANN-2019-2/evaluacion-Camfez92/blob/master/datos/precios/Precio_Bolsa_Nacional_(%24kwh)_2006.xlsx?raw=true\", sep = ',',         # separador de campos\n",
        "    thousands = None,  # separador de miles para números\n",
        "    decimal = '.')     # separador de los decimales para números )\n",
        "\n",
        "data07=pd.read_excel(\"https://github.com/ANN-2019-2/evaluacion-Camfez92/blob/master/datos/precios/Precio_Bolsa_Nacional_(%24kwh)_2007.xlsx?raw=true\", sep = ',',         # separador de campos\n",
        "    thousands = None,  # separador de miles para números\n",
        "    decimal = '.')     # separador de los decimales para números )\n",
        "\n",
        "data08=pd.read_excel(\"https://github.com/ANN-2019-2/evaluacion-Camfez92/blob/master/datos/precios/Precio_Bolsa_Nacional_(%24kwh)_2008.xlsx?raw=true\", sep = ',',         # separador de campos\n",
        "    thousands = None,  # separador de miles para números\n",
        "    decimal = '.')     # separador de los decimales para números )\n",
        "\n",
        "data09=pd.read_excel(\"https://github.com/ANN-2019-2/evaluacion-Camfez92/blob/master/datos/precios/Precio_Bolsa_Nacional_(%24kwh)_2009.xlsx?raw=true\", sep = ',',         # separador de campos\n",
        "    thousands = None,  # separador de miles para números\n",
        "    decimal = '.')     # separador de los decimales para números )\n",
        "\n",
        "data10=pd.read_excel(\"https://github.com/ANN-2019-2/evaluacion-Camfez92/blob/master/datos/precios/Precio_Bolsa_Nacional_(%24kwh)_2010.xlsx?raw=true\", sep = ',',         # separador de campos\n",
        "    thousands = None,  # separador de miles para números\n",
        "    decimal = '.')     # separador de los decimales para números )\n",
        "\n",
        "data11=pd.read_excel(\"https://github.com/ANN-2019-2/evaluacion-Camfez92/blob/master/datos/precios/Precio_Bolsa_Nacional_(%24kwh)_2011.xlsx?raw=true\", sep = ',',         # separador de campos\n",
        "    thousands = None,  # separador de miles para números\n",
        "    decimal = '.')     # separador de los decimales para números )\n",
        "\n",
        "data12=pd.read_excel(\"https://github.com/ANN-2019-2/evaluacion-Camfez92/blob/master/datos/precios/Precio_Bolsa_Nacional_(%24kwh)_2012.xlsx?raw=true\", sep = ',',         # separador de campos\n",
        "    thousands = None,  # separador de miles para números\n",
        "    decimal = '.')     # separador de los decimales para números )\n",
        "\n",
        "\n",
        "data13=pd.read_excel(\"https://github.com/ANN-2019-2/evaluacion-Camfez92/blob/master/datos/precios/Precio_Bolsa_Nacional_(%24kwh)_2013.xlsx?raw=true\", sep = ',',         # separador de campos\n",
        "    thousands = None,  # separador de miles para números\n",
        "    decimal = '.')     # separador de los decimales para números )\n",
        "\n",
        "data14=pd.read_excel(\"https://github.com/ANN-2019-2/evaluacion-Camfez92/blob/master/datos/precios/Precio_Bolsa_Nacional_(%24kwh)_2014.xlsx?raw=true\", sep = ',',         # separador de campos\n",
        "    thousands = None,  # separador de miles para números\n",
        "    decimal = '.')     # separador de los decimales para números )\n",
        "\n",
        "data15=pd.read_excel(\"https://github.com/ANN-2019-2/evaluacion-Camfez92/blob/master/datos/precios/Precio_Bolsa_Nacional_(%24kwh)_2015.xlsx?raw=true\", sep = ',',         # separador de campos\n",
        "    thousands = None,  # separador de miles para números\n",
        "    decimal = '.')     # separador de los decimales para números )\n",
        "\n",
        "data16=pd.read_excel(\"https://github.com/ANN-2019-2/evaluacion-Camfez92/blob/master/datos/precios/Precio_Bolsa_Nacional_(%24kwh)_2016.xls?raw=true\", sep = ',',         # separador de campos\n",
        "    thousands = None,  # separador de miles para números\n",
        "    decimal = '.')     # separador de los decimales para números )\n",
        "\n",
        "data17=pd.read_excel(\"https://github.com/ANN-2019-2/evaluacion-Camfez92/blob/master/datos/precios/Precio_Bolsa_Nacional_(%24kwh)_2017.xls?raw=true\", sep = ',',         # separador de campos\n",
        "    thousands = None,  # separador de miles para números\n",
        "    decimal = '.')     # separador de los decimales para números )\n",
        "\n",
        "data18=pd.read_excel(\"https://github.com/ANN-2019-2/evaluacion-Camfez92/blob/master/datos/precios/Precio_Bolsa_Nacional_(%24kwh)_2018.xls?raw=true\", sep = ',',         # separador de campos\n",
        "    thousands = None,  # separador de miles para números\n",
        "    decimal = '.')     # separador de los decimales para números )\n",
        "\n",
        "\n",
        "\n",
        "#Carga del IPC\n",
        "uploaded = files.upload()\n",
        "ipc = pd.read_excel(io.BytesIO(uploaded['1.2.5.IPC_Serie_variaciones.xlsx']),\n",
        "    thousands = None,  # separador de miles para números\n",
        "    decimal = '.')\n",
        "\n",
        "\n",
        "\n"
      ],
      "execution_count": 4,
      "outputs": [
        {
          "output_type": "display_data",
          "data": {
            "text/html": [
              "\n",
              "     <input type=\"file\" id=\"files-74d32858-41bb-49de-a108-396a72124744\" name=\"files[]\" multiple disabled />\n",
              "     <output id=\"result-74d32858-41bb-49de-a108-396a72124744\">\n",
              "      Upload widget is only available when the cell has been executed in the\n",
              "      current browser session. Please rerun this cell to enable.\n",
              "      </output>\n",
              "      <script src=\"/nbextensions/google.colab/files.js\"></script> "
            ],
            "text/plain": [
              "<IPython.core.display.HTML object>"
            ]
          },
          "metadata": {
            "tags": []
          }
        },
        {
          "output_type": "stream",
          "text": [
            "Saving 1.2.5.IPC_Serie_variaciones.xlsx to 1.2.5.IPC_Serie_variaciones.xlsx\n"
          ],
          "name": "stdout"
        }
      ]
    },
    {
      "cell_type": "markdown",
      "metadata": {
        "id": "3HB7BByaAZEC",
        "colab_type": "text"
      },
      "source": [
        "Hacemos limpieza de la base de datos:\n",
        "\n",
        "1.   Eliminamos filas completas en NaN y reiniciamos el indexado\n",
        "2.   Creamos un nuevo nombre para las columnas para facilitar la comprensión de la base de datos\n",
        "3.   Convertimos celdas= NaN en 0\n",
        "\n",
        "Nota: Cuidado al ejecutar la instrucción más de una vez, ya que aquí se eliminan las filas 1,2 y 3 (0, 1 y 2 si comienzas el conteo desde 0) de la base de datos guardada, entonces, cada vez que ejecutes el código eliminará dichas filas.\n",
        "\n",
        "\n",
        "\n"
      ]
    },
    {
      "cell_type": "code",
      "metadata": {
        "id": "abIA2mUTxt1e",
        "colab_type": "code",
        "colab": {}
      },
      "source": [
        "data95=data95.drop([0,1,2],axis=0) #1\n",
        "data95.columns=[\"Fecha\"]+list(range(24))#2\n",
        "data95=data95.fillna(0)#3\n",
        "data95=data95.reset_index(drop=True)\n",
        "\n",
        "data96=data96.drop([0,1,2],axis=0) #1\n",
        "data96.columns=[\"Fecha\"]+list(range(24))#2\n",
        "data96=data96.fillna(0)#3\n",
        "data96=data96.reset_index(drop=True)\n",
        "\n",
        "data97=data97.drop([0,1,2],axis=0) #1\n",
        "data97.columns=[\"Fecha\"]+list(range(24))#2\n",
        "data97=data97.fillna(0)#3\n",
        "data97=data97.reset_index(drop=True)\n",
        "\n",
        "data98=data98.drop([0,1,2],axis=0) #1\n",
        "data98.columns=[\"Fecha\"]+list(range(24))#2\n",
        "data98=data98.fillna(0)#3\n",
        "data98=data98.reset_index(drop=True)\n",
        "\n",
        "data99=data99.drop([0,1,2],axis=0) #1\n",
        "data99.columns=[\"Fecha\"]+list(range(24))#2\n",
        "data99=data99.fillna(0)#3\n",
        "data99=data99.reset_index(drop=True)\n",
        "\n",
        "data2000=data2000.drop([0,1],axis=0) #1\n",
        "data2000.columns=[\"Fecha\"]+list(range(25))#2\n",
        "data2000=data2000.drop([24],axis=1)\n",
        "data2000=data2000.fillna(0)#3\n",
        "data2000=data2000.reset_index(drop=True)\n",
        "\n",
        "data01=data01.drop([0,1],axis=0) #1\n",
        "data01.columns=[\"Fecha\"]+list(range(24))#2\n",
        "data01=data01.fillna(0)#3\n",
        "data01=data01.reset_index(drop=True)\n",
        "\n",
        "data02=data02.drop([0,1],axis=0) #1\n",
        "data02.columns=[\"Fecha\"]+list(range(24))#2\n",
        "data02=data02.fillna(0)#3\n",
        "data02=data02.reset_index(drop=True)\n",
        "\n",
        "data03=data03.drop([0,1],axis=0) #1\n",
        "data03.columns=[\"Fecha\"]+list(range(24))#2\n",
        "data03=data03.fillna(0)#3\n",
        "data03=data03.reset_index(drop=True)\n",
        "\n",
        "data04=data04.drop([0,1],axis=0) #1\n",
        "data04.columns=[\"Fecha\"]+list(range(24))#2\n",
        "data04=data04.fillna(0)#3\n",
        "data04=data04.reset_index(drop=True)\n",
        "\n",
        "data05=data05.drop([0,1],axis=0) #1\n",
        "data05.columns=[\"Fecha\"]+list(range(25))#2\n",
        "data05=data05.drop([24],axis=1)\n",
        "data05=data05.fillna(0)#3\n",
        "data05=data05.reset_index(drop=True)\n",
        "\n",
        "data06=data06.drop([0,1],axis=0) #1\n",
        "data06.columns=[\"Fecha\"]+list(range(24))#2\n",
        "data06=data06.fillna(0)#3\n",
        "data06=data06.reset_index(drop=True)\n",
        "\n",
        "data07=data07.drop([0,1],axis=0) #1\n",
        "data07.columns=[\"Fecha\"]+list(range(24))#2\n",
        "data07=data07.fillna(0)#3\n",
        "data07=data07.reset_index(drop=True)\n",
        "\n",
        "data08=data08.drop([0,1],axis=0) #1\n",
        "data08.columns=[\"Fecha\"]+list(range(24))#2\n",
        "data08=data08.fillna(0)#3\n",
        "data08=data08.reset_index(drop=True)\n",
        "\n",
        "data09=data09.drop([0,1],axis=0) #1\n",
        "data09.columns=[\"Fecha\"]+list(range(24))#2\n",
        "data09=data09.fillna(0)#3\n",
        "data09=data09.reset_index(drop=True)\n",
        "\n",
        "data10=data10.drop([0,1],axis=0) #1\n",
        "data10.columns=[\"Fecha\"]+list(range(25))#2\n",
        "data10=data10.drop([24],axis=1)\n",
        "data10=data10.fillna(0)#3\n",
        "data10=data10.reset_index(drop=True)\n",
        "\n",
        "data11=data11.drop([0,1],axis=0) #1\n",
        "data11.columns=[\"Fecha\"]+list(range(26))#2\n",
        "data11=data11.drop([24,25],axis=1)\n",
        "data11=data11.fillna(0)#3\n",
        "data11=data11.reset_index(drop=True)\n",
        "\n",
        "data12=data12.drop([0,1],axis=0) #1\n",
        "data12.columns=[\"Fecha\"]+list(range(26))#2\n",
        "data12=data12.drop([24,25],axis=1)\n",
        "data12=data12.fillna(0)#3\n",
        "data12=data12.reset_index(drop=True)\n",
        "\n",
        "data13=data13.drop([0,1],axis=0) #1\n",
        "data13.columns=[\"Fecha\"]+list(range(26))#2\n",
        "data13=data13.drop([24,25],axis=1)\n",
        "data13=data13.fillna(0)#3\n",
        "data13=data13.reset_index(drop=True)\n",
        "\n",
        "data14=data14.drop([0,1],axis=0) #1\n",
        "data14.columns=[\"Fecha\"]+list(range(26))#2\n",
        "data14=data14.drop([24,25],axis=1)\n",
        "data14=data14.fillna(0)#3\n",
        "data14=data14.reset_index(drop=True)\n",
        "\n",
        "data15=data15.drop([0,1],axis=0) #1\n",
        "data15.columns=[\"Fecha\"]+list(range(25))#2\n",
        "data15=data15.drop([24],axis=1)\n",
        "data15=data15.fillna(0)#3\n",
        "data15=data15.reset_index(drop=True)\n",
        "\n",
        "data16=data16.drop([0,1],axis=0) #1\n",
        "data16.columns=[\"Fecha\"]+list(range(25))#2\n",
        "data16=data16.drop([24],axis=1)\n",
        "data16=data16.fillna(0)#3\n",
        "data16=data16.reset_index(drop=True)\n",
        "\n",
        "data17=data17.drop([0,1],axis=0) #1\n",
        "data17.columns=[\"Fecha\"]+list(range(25))#2\n",
        "data17=data17.drop([24],axis=1)\n",
        "data17=data17.fillna(0)#3\n",
        "data17=data17.reset_index(drop=True)\n",
        "\n",
        "data18=data18.drop([0,1],axis=0) #1\n",
        "data18.columns=[\"Fecha\"]+list(range(25))#2\n",
        "data18=data18.drop([24],axis=1)\n",
        "data18=data18.fillna(0)#3\n",
        "data18=data18.reset_index(drop=True)\n",
        "\n",
        "\n",
        "\n",
        "\n"
      ],
      "execution_count": 0,
      "outputs": []
    },
    {
      "cell_type": "markdown",
      "metadata": {
        "id": "ETdsUWM-XUg_",
        "colab_type": "text"
      },
      "source": [
        "Ahora, unimos todos los datos en una sola tabla y borramos las filas que sean iguales; y por último borramos las bases de datos individuales para liberar espacio en memoria"
      ]
    },
    {
      "cell_type": "code",
      "metadata": {
        "id": "oapEvSDO4FvU",
        "colab_type": "code",
        "colab": {}
      },
      "source": [
        "data=pd.concat([data95,data96,data97,data98,data99,data2000,data01,data02,data03,data04,data05,data06,data07,data08,\n",
        "                data09,data10,data11,data12,data13,data14,data15,data16,data17,data18])\n",
        "data.drop_duplicates(keep=False,inplace=True)\n",
        "data=data.reset_index(drop=True)\n",
        "\n",
        "del (data95,data96,data97,data98,data99,data2000,data01,data02,data03,data04,data05,data06,data07,data08,\n",
        "                data09,data10,data11,data12,data13,data14,data15,data16,data17,data18)\n"
      ],
      "execution_count": 0,
      "outputs": []
    },
    {
      "cell_type": "markdown",
      "metadata": {
        "id": "ik45918ugL6M",
        "colab_type": "text"
      },
      "source": [
        "Ahora, creamos una nueva columna \"PromDia\", la cual será el promedio del dia. PromDia=sum(fila)/24.\n",
        "\n",
        "También cambiamos el tipo de dato de \"Hora/Fecha\" a datetime"
      ]
    },
    {
      "cell_type": "code",
      "metadata": {
        "id": "yzQVC3M8UcC6",
        "colab_type": "code",
        "colab": {}
      },
      "source": [
        "data[\"PromDia\"]=data.mean(axis=1)\n",
        "data[\"Fecha\"]=pd.to_datetime(data[\"Fecha\"].astype(str),format=\"%Y-%m-%d\")\n"
      ],
      "execution_count": 0,
      "outputs": []
    },
    {
      "cell_type": "markdown",
      "metadata": {
        "id": "lBiD_vWbPuiq",
        "colab_type": "text"
      },
      "source": [
        "Ahora filtramos la tabla del IPC"
      ]
    },
    {
      "cell_type": "code",
      "metadata": {
        "id": "f2gSdprzO1-Y",
        "colab_type": "code",
        "colab": {}
      },
      "source": [
        "ipc=ipc.drop([0,1,2,3,4,5,6,7,8,9,10,11],axis=0)\n",
        "ipc.columns=[\"Fecha\",\"indice\",\"infA\",\"infM\",\"infAC\"]\n",
        "ipc=ipc.fillna(0)\n",
        "ipc=ipc.reset_index(drop=True)\n",
        "ipc=ipc.drop(ipc.index[302:])\n",
        "ipc=ipc.drop([\"infA\",\"infM\",\"infAC\"],axis=1)\n",
        "ipc[\"Fecha\"]=pd.to_datetime(ipc[\"Fecha\"].astype(str),format=\"%Y%m\")\n",
        "\n"
      ],
      "execution_count": 0,
      "outputs": []
    },
    {
      "cell_type": "markdown",
      "metadata": {
        "id": "KrDULV-_b_s-",
        "colab_type": "text"
      },
      "source": [
        "Y sacamos ipc promedio por año"
      ]
    },
    {
      "cell_type": "code",
      "metadata": {
        "id": "XACbl6PbcCYj",
        "colab_type": "code",
        "colab": {}
      },
      "source": [
        "ipc=ipc.groupby(ipc[\"Fecha\"].dt.year).mean().reset_index()\n",
        "ipc[\"Fecha\"]=pd.to_datetime(ipc[\"Fecha\"].astype(str),format=\"%Y\")\n"
      ],
      "execution_count": 0,
      "outputs": []
    },
    {
      "cell_type": "markdown",
      "metadata": {
        "id": "edaLRWBGsxXh",
        "colab_type": "text"
      },
      "source": [
        "Ahora unimos ambas tablas para operarlas más facilmente y luego llevamos el precio promedio diario a precio actual con el IPC"
      ]
    },
    {
      "cell_type": "code",
      "metadata": {
        "id": "5cabnhOHs00s",
        "colab_type": "code",
        "colab": {}
      },
      "source": [
        "data = data.merge(\n",
        "    ipc[\"indice\"],\n",
        "    how=\"left\",\n",
        "    left_on=data[\"Fecha\"].dt.year,\n",
        "    right_on=ipc[\"Fecha\"].dt.year\n",
        "    )\n",
        "data[\"PrecioAct\"]=np.multiply(data[\"PromDia\"],99.068333)/data[\"indice\"]"
      ],
      "execution_count": 0,
      "outputs": []
    },
    {
      "cell_type": "markdown",
      "metadata": {
        "id": "tCEx8_t2XH9U",
        "colab_type": "text"
      },
      "source": [
        "Veamos la grafica de los precios de la electricidad diarios teniendo en cuenta el IPC desde 1995/01/01 hasta 2018/05/05.\n",
        "\n",
        "como los valores a predecir son los 7 últimos dias de la lista, estos valores los guardamos en lstresult, y los valores de entrenamiento los guardamos en lst "
      ]
    },
    {
      "cell_type": "code",
      "metadata": {
        "id": "LUiPpogchhxm",
        "colab_type": "code",
        "outputId": "51855e7e-ea48-4b3a-a926-aee9c7b05a3a",
        "colab": {
          "base_uri": "https://localhost:8080/",
          "height": 211
        }
      },
      "source": [
        "lstor=list(data[\"PrecioAct\"])\n",
        "plt.figure(figsize=(14,3))\n",
        "plt.plot(lstor, color='black');"
      ],
      "execution_count": 146,
      "outputs": [
        {
          "output_type": "display_data",
          "data": {
            "image/png": "[encoded data removed]",
            "text/plain": [
              "<Figure size 1008x216 with 1 Axes>"
            ]
          },
          "metadata": {
            "tags": []
          }
        }
      ]
    },
    {
      "cell_type": "markdown",
      "metadata": {
        "id": "vGYqfoAFbAvn",
        "colab_type": "text"
      },
      "source": [
        "Implementamos el Adaline para series de tiempo.\n",
        "\n",
        "Si implimentamos el adaline sin ningun tipo de transformación de los datos, se obtienen resultados negativos, por lo tanto, después de varias pruebas, en nuestro caso la transformación funcional es logaritmo natural."
      ]
    },
    {
      "cell_type": "code",
      "metadata": {
        "id": "PRXkPw5ojpJc",
        "colab_type": "code",
        "colab": {}
      },
      "source": [
        "d=np.log(lstor)\n",
        "\n",
        "################################################\n",
        "class Model(object):\n",
        "    def __init__(self, L):\n",
        "        self.w = tf.Variable([0.0] * (L))\n",
        "\n",
        "    def __call__(self, x):\n",
        "        x = tf.constant(np.array([1.0] + x, dtype=np.float32))\n",
        "        y_pred = tf.reduce_sum(tf.multiply(self.w, x))\n",
        "        return y_pred\n",
        "\n",
        "    def fit(self, mu, x, y_desired):\n",
        "        y_pred = self(x)\n",
        "        e = y_desired - y_pred\n",
        "        x = tf.constant(np.array([1.0] + x, dtype=np.float32))\n",
        "        self.w.assign_add(tf.scalar_mul(2 * mu * e, x))\n",
        "\n",
        "\n",
        "###################################################\n",
        "##\n",
        "##  Para pronosticar el valor actual se toman los `L`\n",
        "##  valores previos de la serie\n",
        "##\n",
        "L = 7\n",
        "\n",
        "##\n",
        "##  Modelo\n",
        "##\n",
        "model = Model(L)\n",
        "\n",
        "##\n",
        "##  Pronosticos del modelo\n",
        "##\n",
        "y_pred = np.empty(len(d))\n",
        "y_pred[:] = np.nan\n",
        "\n",
        "for t in range(L, len(d)):\n",
        "    x = d[t-L:t]\n",
        "    y_pred[t] = model(x)\n",
        "    model.fit(mu=0.001, x=x, y_desired=d[t])\n",
        "\n",
        "ycorr=np.exp(y_pred)\n"
      ],
      "execution_count": 0,
      "outputs": []
    },
    {
      "cell_type": "markdown",
      "metadata": {
        "id": "Rn5KSm8Vxz7n",
        "colab_type": "text"
      },
      "source": [
        "Gráfica de los resultados"
      ]
    },
    {
      "cell_type": "code",
      "metadata": {
        "id": "EWz5Q0aFuqO1",
        "colab_type": "code",
        "colab": {
          "base_uri": "https://localhost:8080/",
          "height": 211
        },
        "outputId": "dbaed8e4-7240-4187-bbf4-46ee72efc0c1"
      },
      "source": [
        "plt.figure(figsize=(14,3))\n",
        "plt.plot(lstor, color='black');\n",
        "plt.plot(ycorr, color = 'red');\n"
      ],
      "execution_count": 169,
      "outputs": [
        {
          "output_type": "display_data",
          "data": {
            "image/png": "[encoded data removed]",
            "text/plain": [
              "<Figure size 1008x216 with 1 Axes>"
            ]
          },
          "metadata": {
            "tags": []
          }
        }
      ]
    },
    {
      "cell_type": "markdown",
      "metadata": {
        "id": "3nvpdwAH0QDQ",
        "colab_type": "text"
      },
      "source": [
        "El error: (datos originales - datos previstos)^2"
      ]
    },
    {
      "cell_type": "code",
      "metadata": {
        "id": "6iIScERmFL9P",
        "colab_type": "code",
        "colab": {
          "base_uri": "https://localhost:8080/",
          "height": 222
        },
        "outputId": "8da265fc-53f4-491c-a1cb-be44da6df16f"
      },
      "source": [
        "\n",
        "\n",
        "errors2=np.power(np.subtract(lstor,ycorr),2)\n",
        "plt.figure(figsize=(14,3))\n",
        "plt.plot(errors2, color='blue');\n"
      ],
      "execution_count": 170,
      "outputs": [
        {
          "output_type": "display_data",
          "data": {
            "image/png": "[encoded data removed]",
            "text/plain": [
              "<Figure size 1008x216 with 1 Axes>"
            ]
          },
          "metadata": {
            "tags": []
          }
        }
      ]
    }
  ]
}